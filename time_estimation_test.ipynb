{
 "cells": [
  {
   "cell_type": "code",
   "execution_count": 21,
   "id": "48972eb1-8615-40e3-872d-fd656b7f275e",
   "metadata": {},
   "outputs": [],
   "source": [
    "import time\n",
    "import pandas as pd\n",
    "\n",
    "import requests\n",
    "from bs4 import BeautifulSoup\n",
    "import json\n",
    "\n",
    "def send_to_google_form(data_dict, form_url):\n",
    "    ''' Helper function to upload information to a corresponding google form \n",
    "        You are not expected to follow the code within this function!\n",
    "    '''\n",
    "    form_id = form_url[34:90]\n",
    "    view_form_url = f'https://docs.google.com/forms/d/e/{form_id}/viewform'\n",
    "    post_form_url = f'https://docs.google.com/forms/d/e/{form_id}/formResponse'\n",
    "\n",
    "    page = requests.get(view_form_url)\n",
    "    content = BeautifulSoup(page.content, \"html.parser\").find('script', type='text/javascript')\n",
    "    content = content.text[27:-1]\n",
    "    result = json.loads(content)[1][1]\n",
    "    form_dict = {}\n",
    "    \n",
    "    loaded_all = True\n",
    "    for item in result:\n",
    "        if item[1] not in data_dict:\n",
    "            print(f\"Form item {item[1]} not found. Data not uploaded.\")\n",
    "            loaded_all = False\n",
    "            return False\n",
    "        form_dict[f'entry.{item[4][0][0]}'] = data_dict[item[1]]\n",
    "    \n",
    "    post_result = requests.post(post_form_url, data=form_dict)\n",
    "    return post_result.ok\n",
    "  \n",
    "\n",
    "\n",
    "# running a time estimation test\n",
    "\n",
    "# user told to wait for input box to appear\n",
    "# then after they estimate a given length of time\n",
    "# has occured press enter to close the input\n",
    "\n",
    "# the program stores the target time, and the actual time\n",
    "# that elapsed\n",
    "\n",
    "# the times for testing are 5, 10, 15, 20, 25 and 30 seconds\n",
    "\n",
    "# Questions...\n",
    "\n",
    "# How can we write this using a function or functions to simplify things?\n",
    "\n",
    "def get_time_estimate(period):\n",
    "    print(f\"Wait for the next prompt then after {period} seconds press enter\")\n",
    "    time.sleep(1)\n",
    "    start_time = time.time()\n",
    "    input(f'Press enter when {period} seconds have passed')\n",
    "    end_time = time.time()\n",
    "    time_taken = end_time - start_time\n",
    "    return time_taken \n",
    "\n",
    "def run_time_test():\n",
    "    name = input(\"please enter your name\")\n",
    "    time_list = [5, 10, 15, 20, 25, 30 ]\n",
    "    estimate_list = []\n",
    "    \n",
    "    for period in time_list:\n",
    "        result = get_time_estimate(period)\n",
    "        estimate_list.append(result)\n",
    "        \n",
    "    data_dict = {\n",
    "        'name': name,\n",
    "        'time': time_list,\n",
    "        'user_time': estimate_list\n",
    "    }\n",
    "    df = pd.DataFrame(data_dict)\n",
    "    return df\n",
    "\n",
    "def run_time_test_gform():\n",
    "    name = input(\"please enter your name\")\n",
    "    time_list = [5, 10, 15, 20, 25, 30 ]\n",
    "    estimate_list = []\n",
    "    \n",
    "    for period in time_list:\n",
    "        result = get_time_estimate(period)\n",
    "        estimate_list.append(result)\n",
    "        \n",
    "    data_dict = {\n",
    "        'name': name,\n",
    "        '5': estimate_list[0],\n",
    "        '10': estimate_list[1],\n",
    "        '15': estimate_list[2],\n",
    "        '20': estimate_list[3],\n",
    "        '25': estimate_list[4],\n",
    "        '30': estimate_list[5],\n",
    "        \n",
    "    }\n",
    "    return data_dict\n",
    "    "
   ]
  },
  {
   "cell_type": "code",
   "execution_count": 17,
   "id": "d8374b2c-b1b1-4542-8edc-c88337e86b7c",
   "metadata": {},
   "outputs": [
    {
     "name": "stdin",
     "output_type": "stream",
     "text": [
      "please enter your name phil\n"
     ]
    },
    {
     "name": "stdout",
     "output_type": "stream",
     "text": [
      "Wait for the next prompt then after 5 seconds press enter\n"
     ]
    },
    {
     "name": "stdin",
     "output_type": "stream",
     "text": [
      "Press enter when 5 seconds have passed \n"
     ]
    },
    {
     "name": "stdout",
     "output_type": "stream",
     "text": [
      "Wait for the next prompt then after 10 seconds press enter\n"
     ]
    },
    {
     "name": "stdin",
     "output_type": "stream",
     "text": [
      "Press enter when 10 seconds have passed \n"
     ]
    },
    {
     "name": "stdout",
     "output_type": "stream",
     "text": [
      "Wait for the next prompt then after 15 seconds press enter\n"
     ]
    },
    {
     "name": "stdin",
     "output_type": "stream",
     "text": [
      "Press enter when 15 seconds have passed \n"
     ]
    },
    {
     "data": {
      "text/html": [
       "<div>\n",
       "<style scoped>\n",
       "    .dataframe tbody tr th:only-of-type {\n",
       "        vertical-align: middle;\n",
       "    }\n",
       "\n",
       "    .dataframe tbody tr th {\n",
       "        vertical-align: top;\n",
       "    }\n",
       "\n",
       "    .dataframe thead th {\n",
       "        text-align: right;\n",
       "    }\n",
       "</style>\n",
       "<table border=\"1\" class=\"dataframe\">\n",
       "  <thead>\n",
       "    <tr style=\"text-align: right;\">\n",
       "      <th></th>\n",
       "      <th>name</th>\n",
       "      <th>time</th>\n",
       "      <th>user_time</th>\n",
       "    </tr>\n",
       "  </thead>\n",
       "  <tbody>\n",
       "    <tr>\n",
       "      <th>0</th>\n",
       "      <td>phil</td>\n",
       "      <td>5</td>\n",
       "      <td>0.369519</td>\n",
       "    </tr>\n",
       "    <tr>\n",
       "      <th>1</th>\n",
       "      <td>phil</td>\n",
       "      <td>10</td>\n",
       "      <td>0.378893</td>\n",
       "    </tr>\n",
       "    <tr>\n",
       "      <th>2</th>\n",
       "      <td>phil</td>\n",
       "      <td>15</td>\n",
       "      <td>0.479973</td>\n",
       "    </tr>\n",
       "  </tbody>\n",
       "</table>\n",
       "</div>"
      ],
      "text/plain": [
       "   name  time  user_time\n",
       "0  phil     5   0.369519\n",
       "1  phil    10   0.378893\n",
       "2  phil    15   0.479973"
      ]
     },
     "execution_count": 17,
     "metadata": {},
     "output_type": "execute_result"
    }
   ],
   "source": [
    "result = run_time_test()\n",
    "result "
   ]
  },
  {
   "cell_type": "code",
   "execution_count": 22,
   "id": "2a6f2e8a-b85f-4b6f-8266-07f898d7ce65",
   "metadata": {},
   "outputs": [
    {
     "name": "stdin",
     "output_type": "stream",
     "text": [
      "please enter your name phil\n"
     ]
    },
    {
     "name": "stdout",
     "output_type": "stream",
     "text": [
      "Wait for the next prompt then after 5 seconds press enter\n"
     ]
    },
    {
     "name": "stdin",
     "output_type": "stream",
     "text": [
      "Press enter when 5 seconds have passed \n"
     ]
    },
    {
     "name": "stdout",
     "output_type": "stream",
     "text": [
      "Wait for the next prompt then after 10 seconds press enter\n"
     ]
    },
    {
     "name": "stdin",
     "output_type": "stream",
     "text": [
      "Press enter when 10 seconds have passed \n"
     ]
    },
    {
     "name": "stdout",
     "output_type": "stream",
     "text": [
      "Wait for the next prompt then after 15 seconds press enter\n"
     ]
    },
    {
     "name": "stdin",
     "output_type": "stream",
     "text": [
      "Press enter when 15 seconds have passed \n"
     ]
    },
    {
     "name": "stdout",
     "output_type": "stream",
     "text": [
      "Wait for the next prompt then after 20 seconds press enter\n"
     ]
    },
    {
     "name": "stdin",
     "output_type": "stream",
     "text": [
      "Press enter when 20 seconds have passed \n"
     ]
    },
    {
     "name": "stdout",
     "output_type": "stream",
     "text": [
      "Wait for the next prompt then after 25 seconds press enter\n"
     ]
    },
    {
     "name": "stdin",
     "output_type": "stream",
     "text": [
      "Press enter when 25 seconds have passed \n"
     ]
    },
    {
     "name": "stdout",
     "output_type": "stream",
     "text": [
      "Wait for the next prompt then after 30 seconds press enter\n"
     ]
    },
    {
     "name": "stdin",
     "output_type": "stream",
     "text": [
      "Press enter when 30 seconds have passed \n"
     ]
    },
    {
     "data": {
      "text/plain": [
       "True"
      ]
     },
     "execution_count": 22,
     "metadata": {},
     "output_type": "execute_result"
    }
   ],
   "source": [
    "data_dict = run_time_test_gform()\n",
    "form_url = \"https://docs.google.com/forms/d/e/1FAIpQLScbGfvHccvnKBnr29auBeZntQ-0q0-iK7BKpbGs4M-PJ4dEkw/viewform?usp=sf_link\"\n",
    "send_to_google_form(data_dict, form_url)"
   ]
  },
  {
   "cell_type": "code",
   "execution_count": null,
   "id": "1cee2d25-b2dc-4ae4-914e-7f16cb92af76",
   "metadata": {},
   "outputs": [],
   "source": []
  }
 ],
 "metadata": {
  "kernelspec": {
   "display_name": "Python 3 (ipykernel)",
   "language": "python",
   "name": "python3"
  },
  "language_info": {
   "codemirror_mode": {
    "name": "ipython",
    "version": 3
   },
   "file_extension": ".py",
   "mimetype": "text/x-python",
   "name": "python",
   "nbconvert_exporter": "python",
   "pygments_lexer": "ipython3",
   "version": "3.8.17"
  }
 },
 "nbformat": 4,
 "nbformat_minor": 5
}
